{
 "cells": [
  {
   "cell_type": "code",
   "execution_count": 1,
   "metadata": {
    "collapsed": true,
    "pycharm": {
     "name": "#%%\n"
    }
   },
   "outputs": [],
   "source": [
    "import cv2 as cv2\n",
    "import time\n",
    "import os\n",
    "from pathlib import  Path"
   ]
  },
  {
   "cell_type": "code",
   "execution_count": 2,
   "outputs": [
    {
     "name": "stdout",
     "output_type": "stream",
     "text": [
      "M:\\22-23_CE301_olaoye_emmanuel_o\\Algorithims\\computer vision\\images\\Maps\\London.png\n",
      "M:\\22-23_CE301_olaoye_emmanuel_o\\Algorithims\\images\\Maps\\London.png\n"
     ]
    }
   ],
   "source": [
    "###\n",
    "# TODO make function tht load images\n",
    "# Def load image (type image name)\n",
    "\n",
    "parent_directory =  'images\\Maps'\n",
    "name = '\\London.png'\n",
    "full = parent_directory+name\n",
    "p = Path(full).parent\n",
    "\n",
    "acc_path = r\"M:\\22-23_CE301_olaoye_emmanuel_o\\Algorithims\\images\\Maps\\London.png\"\n",
    "\n",
    "\n",
    "absolute = str(p.absolute()) # absolute is a Path object\n",
    "print(absolute+name)\n",
    "print(acc_path)\n"
   ],
   "metadata": {
    "collapsed": false,
    "pycharm": {
     "name": "#%%\n"
    }
   }
  },
  {
   "cell_type": "code",
   "execution_count": 32,
   "outputs": [],
   "source": [
    "img = cv2.imread(acc_path, 1)\n",
    "img = cv2.resize(img, (450, 450), interpolation=cv2.INTER_CUBIC)"
   ],
   "metadata": {
    "collapsed": false,
    "pycharm": {
     "name": "#%%\n"
    }
   }
  },
  {
   "cell_type": "code",
   "execution_count": 33,
   "outputs": [],
   "source": [
    "cv2.imshow(\"hh\", img)\n",
    "\n",
    "#works perfectly\n",
    "path = \"M:/22-23_CE301_olaoye_emmanuel_o\SourceFile/images/skeleton.png\"\n",
    "hi = cv2.imread(path, 1)"
   ],
   "metadata": {
    "collapsed": false,
    "pycharm": {
     "name": "#%%\n"
    }
   }
  },
  {
   "cell_type": "code",
   "execution_count": 3,
   "outputs": [],
   "source": [],
   "metadata": {
    "collapsed": false,
    "pycharm": {
     "name": "#%%\n"
    }
   }
  },
  {
   "cell_type": "code",
   "execution_count": 3,
   "outputs": [],
   "source": [],
   "metadata": {
    "collapsed": false,
    "pycharm": {
     "name": "#%%\n"
    }
   }
  },
  {
   "cell_type": "markdown",
   "source": [],
   "metadata": {
    "collapsed": false,
    "pycharm": {
     "name": "#%% md\n"
    }
   }
  },
  {
   "cell_type": "code",
   "execution_count": null,
   "outputs": [],
   "source": [],
   "metadata": {
    "collapsed": false,
    "pycharm": {
     "name": "#%%\n"
    }
   }
  }
 ],
 "metadata": {
  "kernelspec": {
   "display_name": "Python 3",
   "language": "python",
   "name": "python3"
  },
  "language_info": {
   "codemirror_mode": {
    "name": "ipython",
    "version": 2
   },
   "file_extension": ".py",
   "mimetype": "text/x-python",
   "name": "python",
   "nbconvert_exporter": "python",
   "pygments_lexer": "ipython2",
   "version": "2.7.6"
  }
 },
 "nbformat": 4,
 "nbformat_minor": 0
}