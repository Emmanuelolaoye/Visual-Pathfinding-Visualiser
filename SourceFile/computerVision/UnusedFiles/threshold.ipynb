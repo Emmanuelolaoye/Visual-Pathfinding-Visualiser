{
 "cells": [
  {
   "cell_type": "code",
   "execution_count": 2,
   "metadata": {
    "collapsed": true,
    "pycharm": {
     "name": "#%%\n"
    }
   },
   "outputs": [],
   "source": [
    "import cv2\n",
    "import numpy as np\n",
    "import os\n",
    "from matplotlib import pyplot as plt\n",
    "from pathlib import Path\n",
    "from skimage.morphology import skeletonize\n",
    "from skimage import morphology, filters, data\n",
    "#from skimage.viewer import ImageViewer\n",
    "\n"
   ]
  },
  {
   "cell_type": "code",
   "execution_count": 3,
   "outputs": [],
   "source": [
    "path = \"C:/Users/Manny/Documents/Capstone_Repo/22-23_CE301_olaoye_emmanuel_o\SourceFile/computer vision/original.png\"\n"
   ],
   "metadata": {
    "collapsed": false,
    "pycharm": {
     "name": "#%%\n"
    }
   }
  },
  {
   "cell_type": "code",
   "execution_count": 4,
   "outputs": [],
   "source": [
    "# to remove the roads\n",
    "low_yellow = np.array([10, 52, 60])\n",
    "high_yellow = np.array([60, 255, 255])\n",
    "\n",
    "lw = np.array([0, 0, 255])\n",
    "uw = np.array([255, 255, 255])\n"
   ],
   "metadata": {
    "collapsed": false,
    "pycharm": {
     "name": "#%%\n"
    }
   }
  },
  {
   "cell_type": "code",
   "execution_count": null,
   "outputs": [],
   "source": [
    "img = cv2.imread(path)\n",
    "img = cv2.resize(img, (900, 650), interpolation=cv2.INTER_CUBIC)\n",
    "\n",
    "gray_image = cv2.threshold(img, 127, 255, cv2.THRESH_BINARY)\n",
    "\n",
    "# convert BGR to HSV\n",
    "imgHSV = cv2.cvtColor(img, cv2.COLOR_BGR2HSV)\n",
    "\n",
    "# create the Mask\n",
    "mask = cv2.inRange(imgHSV, low_yellow, high_yellow)\n",
    "\n",
    "# inverse mask\n",
    "#mask = 255-mask\n",
    "res = cv2.bitwise_and(img, img, mask=mask)\n",
    "\n",
    "\n",
    "# imgg = cv2.imread(path, cv2.IMREAD_GRAYSCALE)\n",
    "# assert imgg is not None, \"file could not be read, check with os.path.exists()\"\n",
    "# plt.hist(imgg.ravel(), 256, [0, 256]);\n",
    "# plt.show()\n",
    "\n",
    "\n",
    "\n",
    "#print(np.unique(mask))\n",
    "binary = mask > filters.threshold_otsu(mask)\n",
    "print(np.unique(binary))\n",
    "print()\n",
    "print()\n",
    "\n",
    "res = morphology.medial_axis(binary)\n",
    "\n",
    "\n",
    "\n",
    "# saving the image\n",
    "#cv2.imwrite(\"skeleton.png\", res)\n",
    "#cv2.imwrite(\"original.png\", img)\n",
    "#cv2.imwrite(\"read_road.png\", res)\n",
    "\n",
    "\n",
    "#displaying on\n",
    "#f = plt.subpl(1, 2)\n",
    "#f = \"hello\"\n",
    "#cv2.imshow(\"hellow\", res)\n",
    "#ax1.imshow(, cmap='gray', interpolation='nearest')\n",
    "\n",
    "plt.imshow(res, cmap=plt.cm.gray)\n",
    "plt.axis(\"off\")\n",
    "plt.savefig('test2png.png', dpi=10000)\n",
    "\n",
    "\n",
    "\n",
    "#cv2.imshow(\"histo\", gray_image)\n",
    "cv2.imshow(\"mask\", mask)\n",
    "#cv2.imshow(\"cam\", img)\n",
    "#cv2.imshow('res', res)\n",
    "\n",
    "# save image\n",
    "\n",
    "plt.show()\n",
    "cv2.waitKey()"
   ],
   "metadata": {
    "collapsed": false,
    "pycharm": {
     "name": "#%%\n"
    }
   }
  }
 ],
 "metadata": {
  "kernelspec": {
   "display_name": "Python 3",
   "language": "python",
   "name": "python3"
  },
  "language_info": {
   "codemirror_mode": {
    "name": "ipython",
    "version": 2
   },
   "file_extension": ".py",
   "mimetype": "text/x-python",
   "name": "python",
   "nbconvert_exporter": "python",
   "pygments_lexer": "ipython2",
   "version": "2.7.6"
  }
 },
 "nbformat": 4,
 "nbformat_minor": 0
}